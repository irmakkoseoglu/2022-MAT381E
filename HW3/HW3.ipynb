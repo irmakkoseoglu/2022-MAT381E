{
 "cells": [
  {
   "cell_type": "code",
   "execution_count": 1,
   "id": "8e28fdf0",
   "metadata": {},
   "outputs": [
    {
     "name": "stderr",
     "output_type": "stream",
     "text": [
      "2022-05-16 14:39:09.318172: W tensorflow/stream_executor/platform/default/dso_loader.cc:64] Could not load dynamic library 'libcudart.so.11.0'; dlerror: libcudart.so.11.0: cannot open shared object file: No such file or directory; LD_LIBRARY_PATH: /home/kaygun/local/lib\n",
      "2022-05-16 14:39:09.318201: I tensorflow/stream_executor/cuda/cudart_stub.cc:29] Ignore above cudart dlerror if you do not have a GPU set up on your machine.\n"
     ]
    }
   ],
   "source": [
    "import numpy as np\n",
    "import pandas as pd\n",
    "import requests\n",
    "import regex as re\n",
    "import spacy\n",
    "\n",
    "from nltk.corpus import stopwords\n",
    "from nltk.tokenize import sent_tokenize, word_tokenize\n",
    "from nltk.sentiment import SentimentIntensityAnalyzer\n",
    "from xmltodict import parse\n",
    "from bs4 import BeautifulSoup\n",
    "\n",
    "from sklearn.feature_extraction.text import CountVectorizer\n",
    "from sklearn.decomposition import PCA"
   ]
  },
  {
   "cell_type": "markdown",
   "id": "e2455b14",
   "metadata": {},
   "source": [
    "# HW3\n",
    "\n",
    "## Text Processing\n",
    "\n",
    "### Q1\n",
    "\n",
    "1. Modify the code I wrote in lecture 8 with what you have learnt in lecture 9 and correctly tokenize the text both on the word and sentence level, and by removing the stopwords. Rewrite the `getSummary` function and all the other functions that it depends by maing these corrections.\n",
    "\n",
    "2. Rewrite the code I wrote for `getKeywords` function making the same corrections.\n",
    "\n",
    "3. Test your code from parts 1 and 2 on random articles from the Guardian.\n",
    "\n",
    "4. Rewrite the `getSubjectGuardian` function for another newspaper in English, and test your code from part 1 and 2 on random articles from this new newspaper."
   ]
  },
  {
   "cell_type": "code",
   "execution_count": 2,
   "id": "952b4503",
   "metadata": {},
   "outputs": [],
   "source": [
    "def getSubjectGuardian(subject):\n",
    "    with requests.get(f'https://www.theguardian.com/{subject}/rss') as link:\n",
    "        raw = parse(link.text)\n",
    "    return raw['rss']['channel']['item']\n",
    "\n",
    "def getText(url):\n",
    "    with requests.get(url) as link:\n",
    "        raw = BeautifulSoup(link.content,'html.parser')\n",
    "    return ' '.join([x.text for x in raw.find_all('p')])\n",
    "\n",
    "def getSummary(text,k):\n",
    "    sentences = sent_tokenize(text)\n",
    "    N = len(sentences)\n",
    "    vectorizer = CountVectorizer()\n",
    "    matrix = vectorizer.fit_transform(sentences)\n",
    "    projection = PCA(n_components=1)\n",
    "    weights = projection.fit_transform(matrix.toarray())\n",
    "    res = list(zip(weights.transpose()[0],range(N),sentences))\n",
    "    tmp = sorted(res,key=lambda x: x[0],reverse=True)[:k]\n",
    "    return sorted(tmp, key=lambda x: x[1])\n",
    "\n",
    "def getKeywords(text,sw,k):\n",
    "    sentences = sent_tokenize(text)    \n",
    "    vectorizer = CountVectorizer(stop_words=sw)\n",
    "    matrix = vectorizer.fit_transform(sentences)\n",
    "    words = vectorizer.get_feature_names_out()\n",
    "    projection = PCA(n_components=1)\n",
    "    tmp = projection.fit_transform(matrix.transpose().toarray())\n",
    "    weights = tmp.transpose()[0]\n",
    "    return sorted(zip(weights,words),key=lambda x: x[0], reverse=True)[:k]"
   ]
  },
  {
   "cell_type": "code",
   "execution_count": 3,
   "id": "89653562",
   "metadata": {},
   "outputs": [
    {
     "data": {
      "text/plain": [
       "[(3.2008312673793955,\n",
       "  36,\n",
       "  '“The humanitarian crisis caused by the war in Ukraine, and the precipitating unpredictable operating environment, have led McDonald’s to conclude that continued ownership of the business in Russia is no longer tenable.” UK diesel prices have hit record highs, pushing up the costs faced by some firms and motorists.'),\n",
       " (14.566277780219078,\n",
       "  45,\n",
       "  '“The average price of petrol is also on the rise having gone up nearly 3p a litre since the start of the month to 166.65p which means it’s less than a penny away from the all-time high of 167.30p set on 22 March.” NEWUK diesel price at all time record of 180p a litre… UK had been dependent on Russia for a third of imports.Petrol price just below (less than 1p a litre) all time record at 166.65p… this is all after the effect of 5p duty cut.Source: @TheRAC_UK Here are next year’s growth forecast for the EU: Growth forecast for 2023 (%):🇮🇪 4.4🇲🇹 4.0🇸🇰 3.6🇷🇴 3.6🇨🇾 3.5🇪🇸 3.4🇸🇮 3.1🇧🇬 3.1🇬🇷 3.1🇭🇷 3.0🇵🇱 3.0🇱🇻 2.9🇨🇿 2.7🇵🇹 2.7🇱🇺 2.7🇭🇺 2.6🇱🇹 2.6🇪🇪 2.4🇩🇪 2.4🇪🇺 2.3🇮🇹 1.9🇦🇹 1.9🇩🇰 1.8🇧🇪 1.8🇫🇷 1.8🇫🇮 1.7🇳🇱 1.6🇸🇪 1.4Spring #ECForecast The surge in energy costs has dragged the eurozone into a record trade deficit with the rest of the world.'),\n",
       " (4.195391905383026,\n",
       "  46,\n",
       "  'The euro area recorded a €16.4bn deficit in trade in goods with the rest of the world in March 2022, compared with a surplus of €22.5bn in the same month a year ago, the latest trade data shows.'),\n",
       " (3.1928761850484353,\n",
       "  61,\n",
       "  'Real GDP growth in both the EU and the euro area is now expected at 2.7% in 2022 and 2.3% in 2023, down from 4.0% and 2.8% (2.7% in the euro area), in the last Forecast.')]"
      ]
     },
     "execution_count": 3,
     "metadata": {},
     "output_type": "execute_result"
    }
   ],
   "source": [
    "economy = getSubjectGuardian('economy')\n",
    "text = getText(economy[0]['link'])\n",
    "getSummary(text,4)"
   ]
  },
  {
   "cell_type": "code",
   "execution_count": 4,
   "id": "96fd8c07",
   "metadata": {},
   "outputs": [
    {
     "data": {
      "text/plain": [
       "[(3.7542756026490696, 'growth'),\n",
       " (3.671468847517566, 'forecast'),\n",
       " (2.6621427633662873, 'eu'),\n",
       " (2.4205154535443976, 'record'),\n",
       " (2.4120368731668984, 'price'),\n",
       " (2.240888627547999, 'war'),\n",
       " (2.196063202166399, 'litre'),\n",
       " (2.1347569159921798, 'time'),\n",
       " (1.9581011915500874, 'year'),\n",
       " (1.5570021602165718, 'inflation')]"
      ]
     },
     "execution_count": 4,
     "metadata": {},
     "output_type": "execute_result"
    }
   ],
   "source": [
    "swEN = stopwords.words('english')\n",
    "getKeywords(text,swEN,10)"
   ]
  },
  {
   "cell_type": "markdown",
   "id": "c148a291",
   "metadata": {},
   "source": [
    "### Q2\n",
    "\n",
    "Write a function that returns all named entities (proper names, country names, corporation names only) from a URL. Function should take the URL as the input and must return the list of named entities from that URL. Test your code on random articles from the Guardian. Don't use the NLTK's NER that I demonstrated during the lecture. Use the SpaCY's NER function."
   ]
  },
  {
   "cell_type": "code",
   "execution_count": 5,
   "id": "39ef7e94",
   "metadata": {},
   "outputs": [],
   "source": [
    "NER = spacy.load(\"en_core_web_sm\")\n",
    "\n",
    "def getProperNames(URL):\n",
    "    res = NER(getText(URL))\n",
    "    return [(word.text, word.label_) for word in res.ents if word.label_ in ['ORG','PERSON','GPE','NORP','LOC']]"
   ]
  },
  {
   "cell_type": "code",
   "execution_count": 7,
   "id": "e4241889",
   "metadata": {},
   "outputs": [
    {
     "data": {
      "text/plain": [
       "[('The European Commission', 'ORG'),\n",
       " ('European', 'NORP'),\n",
       " ('Ukraine', 'GPE'),\n",
       " ('EC', 'ORG'),\n",
       " ('EU', 'ORG'),\n",
       " ('EU', 'ORG'),\n",
       " ('Forecast', 'ORG'),\n",
       " ('Commission', 'ORG'),\n",
       " ('the European Central Bank’s', 'ORG'),\n",
       " ('Commission', 'ORG'),\n",
       " ('EU', 'ORG'),\n",
       " ('Russia', 'GPE'),\n",
       " ('Ukraine', 'GPE'),\n",
       " ('EU', 'ORG'),\n",
       " ('EU', 'ORG'),\n",
       " ('Russian', 'NORP'),\n",
       " ('Navigator Terminals', 'ORG'),\n",
       " ('Essex', 'GPE'),\n",
       " ('Russian', 'NORP'),\n",
       " ('Vladimir Putin', 'PERSON'),\n",
       " ('Essex Police', 'ORG'),\n",
       " ('PA Media', 'ORG'),\n",
       " ('Russian', 'NORP'),\n",
       " ('📣', 'ORG'),\n",
       " ('Russian', 'NORP'),\n",
       " ('Essex', 'ORG'),\n",
       " ('UK', 'GPE'),\n",
       " ('Putin', 'PERSON'),\n",
       " ('Ukraine', 'GPE'),\n",
       " ('Ukraine', 'GPE'),\n",
       " ('Russian', 'NORP'),\n",
       " ('UK', 'GPE'),\n",
       " ('Russian', 'NORP'),\n",
       " ('👇https://t.co/q5p6kqVCgG Greenpeace', 'ORG'),\n",
       " ('Georgia Whitaker', 'PERSON'),\n",
       " ('Greenpeace UK', 'ORG'),\n",
       " ('UK', 'GPE'),\n",
       " ('Putin', 'PERSON'),\n",
       " ('Ukraine', 'GPE'),\n",
       " ('UK', 'GPE'),\n",
       " ('Russian', 'NORP'),\n",
       " ('Putin', 'PERSON'),\n",
       " ('UK', 'GPE'),\n",
       " ('Russian', 'NORP'),\n",
       " ('Russian', 'NORP'),\n",
       " ('Russian', 'NORP'),\n",
       " ('Essex', 'ORG'),\n",
       " ('Putin', 'PERSON'),\n",
       " ('McDonald’s', 'ORG'),\n",
       " ('Russia', 'GPE'),\n",
       " ('Moscow', 'GPE'),\n",
       " ('Ukraine', 'GPE'),\n",
       " ('McDonald’s', 'ORG'),\n",
       " ('Russia', 'GPE'),\n",
       " ('McDonald’s', 'ORG'),\n",
       " ('Ukraine', 'GPE'),\n",
       " ('McDonald’s', 'ORG'),\n",
       " ('Russia', 'GPE'),\n",
       " ('UK', 'GPE'),\n",
       " ('RAC', 'ORG'),\n",
       " ('https://t.co/nyRYByk6xs', 'NORP'),\n",
       " ('Simon Williams', 'PERSON'),\n",
       " ('Russian', 'NORP'),\n",
       " ('EU', 'ORG'),\n",
       " ('Russian', 'NORP'),\n",
       " ('Williams', 'PERSON'),\n",
       " ('Spring Statement', 'ORG'),\n",
       " ('the Spring Statement', 'ORG'),\n",
       " ('NEWUK', 'ORG'),\n",
       " ('UK', 'GPE'),\n",
       " ('Russia', 'GPE'),\n",
       " ('EU', 'ORG'),\n",
       " ('🇹', 'ORG'),\n",
       " ('🇸', 'NORP'),\n",
       " ('🇷', 'ORG'),\n",
       " ('🇪', 'ORG'),\n",
       " ('🇮', 'ORG'),\n",
       " ('🇧', 'ORG'),\n",
       " ('🇷', 'ORG'),\n",
       " ('🇹', 'ORG'),\n",
       " ('🇪', 'ORG'),\n",
       " ('🇮🇹', 'PERSON'),\n",
       " ('🇹', 'ORG'),\n",
       " ('🇩', 'ORG'),\n",
       " ('ECForecast', 'ORG'),\n",
       " ('EU', 'ORG'),\n",
       " ('EU', 'ORG'),\n",
       " ('EU', 'ORG'),\n",
       " ('Europe', 'LOC'),\n",
       " ('EU', 'ORG'),\n",
       " ('Moscow', 'GPE'),\n",
       " ('EU', 'ORG'),\n",
       " ('Russia', 'GPE'),\n",
       " ('Portugal', 'GPE'),\n",
       " ('EU', 'ORG'),\n",
       " ('Ireland', 'GPE'),\n",
       " ('Estonia', 'GPE'),\n",
       " ('Germany', 'GPE'),\n",
       " ('Finland', 'GPE'),\n",
       " ('🇹', 'ORG'),\n",
       " ('🇹', 'ORG'),\n",
       " ('🇪', 'ORG'),\n",
       " ('🇹', 'ORG'),\n",
       " ('🇸', 'NORP'),\n",
       " ('🇮', 'ORG'),\n",
       " ('🇺', 'ORG'),\n",
       " ('🇮🇹', 'PERSON'),\n",
       " ('🇪', 'ORG'),\n",
       " ('🇧', 'ORG'),\n",
       " ('🇨', 'ORG'),\n",
       " ('🇹', 'ORG'),\n",
       " ('🇩', 'NORP'),\n",
       " ('🇮', 'PERSON'),\n",
       " ('UK', 'GPE'),\n",
       " ('EU', 'ORG'),\n",
       " ('UK', 'GPE'),\n",
       " ('European', 'NORP'),\n",
       " ('the Bank of England', 'ORG'),\n",
       " ('EC', 'ORG'),\n",
       " ('EU', 'ORG'),\n",
       " ('ECForecast', 'ORG'),\n",
       " ('EU', 'ORG'),\n",
       " ('Forecast', 'ORG'),\n",
       " ('pic.twitter.com/xGHc1QO9QO Paolo Gentiloni', 'PERSON'),\n",
       " ('Europe', 'LOC'),\n",
       " ('Ukraine', 'GPE'),\n",
       " ('Russia', 'GPE'),\n",
       " ('Ukraine', 'GPE'),\n",
       " ('Europe', 'LOC'),\n",
       " ('Russia', 'GPE'),\n",
       " ('Europe', 'LOC'),\n",
       " ('Ukraine', 'GPE'),\n",
       " ('Valdis Dombrovskis', 'PERSON'),\n",
       " ('an Economy that Works for People', 'ORG'),\n",
       " ('Dombrovskis', 'ORG'),\n",
       " ('EU', 'ORG'),\n",
       " ('Russia', 'GPE'),\n",
       " ('Ukraine', 'GPE'),\n",
       " ('European', 'NORP'),\n",
       " ('Russia', 'GPE'),\n",
       " ('EU', 'ORG'),\n",
       " ('EU', 'ORG'),\n",
       " ('The European Commission', 'ORG'),\n",
       " ('European', 'NORP'),\n",
       " ('Ukraine', 'GPE'),\n",
       " ('EC', 'ORG'),\n",
       " ('EU', 'ORG'),\n",
       " ('EU', 'ORG'),\n",
       " ('Forecast', 'ORG'),\n",
       " ('Commission', 'ORG'),\n",
       " ('the European Central Bank’s', 'ORG'),\n",
       " ('Commission', 'ORG'),\n",
       " ('EU', 'ORG'),\n",
       " ('Russia', 'GPE'),\n",
       " ('Ukraine', 'GPE'),\n",
       " ('EU', 'ORG'),\n",
       " ('EU', 'ORG'),\n",
       " ('China', 'GPE'),\n",
       " ('Iris Pang', 'PERSON'),\n",
       " ('China', 'GPE'),\n",
       " ('-1', 'ORG'),\n",
       " ('Shanghai', 'GPE'),\n",
       " ('Shanghai', 'GPE'),\n",
       " ('ING', 'ORG'),\n",
       " ('China', 'GPE'),\n",
       " ('China', 'GPE'),\n",
       " ('Bejing', 'GPE'),\n",
       " ('Pang', 'GPE'),\n",
       " ('China', 'GPE'),\n",
       " ('Made.com', 'ORG'),\n",
       " ('Nicola Thompson', 'PERSON'),\n",
       " ('Patrick Lewis', 'PERSON'),\n",
       " ('John Lewis', 'PERSON'),\n",
       " ('https://t.co/PKGfbneadg', 'ORG'),\n",
       " ('Patrick Lewis', 'PERSON'),\n",
       " ('John Lewis', 'PERSON'),\n",
       " ('https://t.co/fJHGb1lfAt Shares', 'PERSON'),\n",
       " ('Britain', 'GPE'),\n",
       " ('Justina Miltienyte', 'PERSON'),\n",
       " ('Uswitch.com', 'ORG'),\n",
       " ('Ofgem', 'PERSON')]"
      ]
     },
     "execution_count": 7,
     "metadata": {},
     "output_type": "execute_result"
    }
   ],
   "source": [
    "getProperNames(economy[0]['link'])"
   ]
  },
  {
   "cell_type": "markdown",
   "id": "82d80aaa",
   "metadata": {},
   "source": [
    "### Q3\n",
    "\n",
    "1. Write a function that returns the most positive and the most negative sentences from a text. The function must take the text as the input and must return a 2-tuple: the first element as the most positive and the second as the most negative sentence with their polarity scores.\n",
    "\n",
    "2. Test your function on random articles from the Guardian."
   ]
  },
  {
   "cell_type": "code",
   "execution_count": 53,
   "id": "c0c48580",
   "metadata": {},
   "outputs": [],
   "source": [
    "analyzer = SentimentIntensityAnalyzer()\n",
    "\n",
    "def extremeSentences(text):\n",
    "    sentences = sent_tokenize(text)\n",
    "    scores = [analyzer.polarity_scores(s) for s in sentences]\n",
    "    res = list(zip(sentences,scores))\n",
    "    mostNeg = sorted(res, key = lambda x: x[1]['neg'], reverse=True)[0][0]\n",
    "    mostPos = sorted(res, key = lambda x: x[1]['pos'], reverse=True)[0][0]\n",
    "    return (mostPos,mostNeg)"
   ]
  },
  {
   "cell_type": "code",
   "execution_count": 54,
   "id": "9efb2ca5",
   "metadata": {},
   "outputs": [
    {
     "data": {
      "text/plain": [
       "('Bonus payouts for Greggs’ outgoing chief executive, Roger Whiteside, amounted to more than double his basic salary of £575,209, taking his total package to £1.9m including benefits.',\n",
       " 'The investment adviser Pirc said shareholders should vote against the bakery chain’s remuneration report, arguing that Whiteside’s pay was excessive and amounted to 79 times that of a regular employee.')"
      ]
     },
     "execution_count": 54,
     "metadata": {},
     "output_type": "execute_result"
    }
   ],
   "source": [
    "extremeSentences(getText(economy[3]['link']))"
   ]
  },
  {
   "cell_type": "code",
   "execution_count": 52,
   "id": "26354b3b",
   "metadata": {},
   "outputs": [
    {
     "data": {
      "text/plain": [
       "('She tells no one.',\n",
       " 'She’s devoted to her mother and sister but dreams of emigrating to the United States with her poetry-reading love interest, Murdo (Will Fletcher).')"
      ]
     },
     "execution_count": 52,
     "metadata": {},
     "output_type": "execute_result"
    }
   ],
   "source": [
    "film = getSubjectGuardian('film')\n",
    "extremeSentences(getText(film[1]['link']))"
   ]
  },
  {
   "cell_type": "code",
   "execution_count": null,
   "id": "390dee82",
   "metadata": {},
   "outputs": [],
   "source": []
  }
 ],
 "metadata": {
  "kernelspec": {
   "display_name": "Python 3 (ipykernel)",
   "language": "python",
   "name": "python3"
  },
  "language_info": {
   "codemirror_mode": {
    "name": "ipython",
    "version": 3
   },
   "file_extension": ".py",
   "mimetype": "text/x-python",
   "name": "python",
   "nbconvert_exporter": "python",
   "pygments_lexer": "ipython3",
   "version": "3.10.4"
  }
 },
 "nbformat": 4,
 "nbformat_minor": 5
}
